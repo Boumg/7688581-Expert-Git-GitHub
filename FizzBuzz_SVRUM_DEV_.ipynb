{
  "nbformat": 4,
  "nbformat_minor": 0,
  "metadata": {
    "colab": {
      "provenance": [],
      "toc_visible": true,
      "include_colab_link": true
    },
    "kernelspec": {
      "name": "python3",
      "display_name": "Python 3"
    },
    "language_info": {
      "name": "python"
    }
  },
  "cells": [
    {
      "cell_type": "markdown",
      "metadata": {
        "id": "view-in-github",
        "colab_type": "text"
      },
      "source": [
        "<a href=\"https://colab.research.google.com/github/Boumg/7688581-Expert-Git-GitHub/blob/main/FizzBuzz_SVRUM_DEV_.ipynb\" target=\"_parent\"><img src=\"https://colab.research.google.com/assets/colab-badge.svg\" alt=\"Open In Colab\"/></a>"
      ]
    },
    {
      "cell_type": "markdown",
      "source": [],
      "metadata": {
        "id": "7Wg_L1WCB3tW"
      }
    },
    {
      "cell_type": "markdown",
      "source": [
        "# FizzBuzz"
      ],
      "metadata": {
        "id": "uuEDgIMitQrq"
      }
    },
    {
      "cell_type": "markdown",
      "source": [
        "\n",
        "# Description des exigences\n",
        "\n",
        "Imaginez la scène. Vous avez onze ans, et cinq minutes avant la fin du cours, votre professeur de mathématiques décide qu'il devrait rendre sa classe plus « amusante » en introduisant un « jeu ». Il explique qu'il va montrer tour à tour chaque élève et lui demander de prononcer le numéro suivant dans l'ordre, en commençant par un. Ce qui est « amusant », c’est que si le nombre est divisible par trois, vous dites plutôt « Fizz » et s’il est divisible par cinq, vous dites « Buzz ». Alors maintenant, votre professeur de mathématiques pointe du doigt tous vos camarades de classe à tour de rôle, et ils crient joyeusement « un ! », « deux ! », « Fizz ! », « quatre ! », « Buzz ! »… jusqu’à ce qu’il montre très délibérément du doigt toi, te fixant d'un regard d'acier… le temps s'arrête, ta bouche s'assèche, tes paumes deviennent de plus en plus moites jusqu'à ce que tu parviennes enfin à coasser « Fizz ! ». Le destin est évité et le doigt pointé continue.\n",
        "\n",
        "Alors bien sûr, afin d'éviter tout embarras devant toute votre classe, vous devez imprimer la liste complète pour savoir quoi dire. Votre classe compte environ 33 élèves et il peut faire trois tours avant que la cloche ne sonne pour la récréation. Le prochain cours de mathématiques aura lieu jeudi. Obtenez le codage !\n",
        "\n",
        "# Besoins\n",
        "\n",
        "Écrivez un programme qui imprime les nombres de 1 à 100. Mais pour les multiples de trois, imprimez « Fizz » au lieu du nombre et pour les multiples de cinq, imprimez « Buzz ». Pour les nombres multiples de trois et cinq, imprimez « FizzBuzz »."
      ],
      "metadata": {
        "id": "QvvLYmXVEZX9"
      }
    },
    {
      "cell_type": "markdown",
      "source": [
        "# Affinage BackLog"
      ],
      "metadata": {
        "id": "gcmsnqFBn6Ga"
      }
    },
    {
      "cell_type": "markdown",
      "source": [
        "Backlog\n",
        "=======\n",
        "## TITRE 2\n",
        " - COMPTEUR DE <1 A <100\n",
        " - dETECTER SI LE COMPTEUR EST UN MULTIPLE DE TROIS (*) -> DONE\n",
        " - aFFICHER LE MULTIPLE DE TROIS DETECTE (*)->DONE\n",
        " - Detecter si le compteur est un multiple de cinq (*) -> DONE\n",
        " - Affichage du multiple de cinq (Buzz)  (*)->DONE\n"
      ],
      "metadata": {
        "id": "Xo5AjTjo-0mC"
      }
    },
    {
      "cell_type": "markdown",
      "source": [
        "# TDD : écriture des tests\n",
        "\n",
        "python\n",
        "\n",
        "```python\n",
        "if <cond> then : <code>\n",
        "\n",
        "class MonException(Exception):\n",
        "    pass\n",
        "\n",
        "try:\n",
        "    raise MonException(\"Ceci est une exception personnalisée\")\n",
        "except MonException as e:\n",
        "    print(f\"Une exception s'est produite: {e}\")\n",
        "    \n",
        "compteur = 0\n",
        "while compteur < 5:\n",
        "    print(compteur)\n",
        "    compteur += 1\n",
        "\n",
        "\n",
        "```"
      ],
      "metadata": {
        "id": "aUM-mKwBsYQW"
      }
    },
    {
      "cell_type": "code",
      "execution_count": null,
      "metadata": {
        "id": "-i_LR5HMBxp3"
      },
      "outputs": [],
      "source": [
        "import unittest\n",
        "\n",
        "\n",
        "class TestMyMath(unittest.TestCase):\n",
        "\n",
        "    def test_multiple_trois(self):\n",
        "        self.assertTrue(multiple(3,3))\n",
        "\n",
        "    def test_multiple_cinq(self):\n",
        "        self.assertTrue(multiple(15,5))\n",
        "        self.assertFalse(multiple(7,5))\n",
        "\n",
        "    def test_affichage(self):\n",
        "        self.assertEqual(affiche(3),\"Fizz\")\n",
        "        self.assertEqual(affiche(5),\"Buzz\")\n",
        "        self.assertEqual(affiche(7),\"7\")\n"
      ]
    },
    {
      "cell_type": "markdown",
      "source": [
        "# Execution en Rouge"
      ],
      "metadata": {
        "id": "yX18CIfht0MB"
      }
    },
    {
      "cell_type": "code",
      "source": [
        "import unittest\n",
        "unittest.TextTestRunner().run(unittest.TestLoader().loadTestsFromTestCase(TestMyMath))"
      ],
      "metadata": {
        "colab": {
          "base_uri": "https://localhost:8080/"
        },
        "id": "uB5RHgwDClPV",
        "outputId": "eba151d2-6976-4a3b-b92e-e7b56f137151"
      },
      "execution_count": null,
      "outputs": [
        {
          "output_type": "stream",
          "name": "stderr",
          "text": [
            "...\n",
            "----------------------------------------------------------------------\n",
            "Ran 3 tests in 0.011s\n",
            "\n",
            "OK\n"
          ]
        },
        {
          "output_type": "execute_result",
          "data": {
            "text/plain": [
              "<unittest.runner.TextTestResult run=3 errors=0 failures=0>"
            ]
          },
          "metadata": {},
          "execution_count": 20
        }
      ]
    },
    {
      "cell_type": "markdown",
      "source": [
        "# Implémentation\n"
      ],
      "metadata": {
        "id": "6cP81edvuNFT"
      }
    },
    {
      "cell_type": "code",
      "source": [
        "\n",
        "\n",
        "def multiple(nombre,multiple):\n",
        "  if nombre % multiple == 0:\n",
        "    return True\n",
        "  else:\n",
        "    return False\n",
        "\n",
        "def affiche(nombre):\n",
        "  if multiple(nombre,3): return \"Fizz\"\n",
        "  if multiple(nombre,5): return \"Buzz\"\n",
        "  return str(nombre)\n"
      ],
      "metadata": {
        "id": "5SmnmmfBugec"
      },
      "execution_count": null,
      "outputs": []
    },
    {
      "cell_type": "markdown",
      "source": [
        "# Execution  des tests en verts"
      ],
      "metadata": {
        "id": "SjpJZWdGtg0I"
      }
    },
    {
      "cell_type": "code",
      "source": [
        "import unittest\n",
        "unittest.TextTestRunner().run(unittest.TestLoader().loadTestsFromTestCase(TestMyMath))"
      ],
      "metadata": {
        "colab": {
          "base_uri": "https://localhost:8080/"
        },
        "id": "KXm1N66Avxh9",
        "outputId": "48c6fa62-3a81-429f-948b-7b4d69046457"
      },
      "execution_count": null,
      "outputs": [
        {
          "output_type": "stream",
          "name": "stderr",
          "text": [
            "..\n",
            "----------------------------------------------------------------------\n",
            "Ran 2 tests in 0.004s\n",
            "\n",
            "OK\n"
          ]
        },
        {
          "output_type": "execute_result",
          "data": {
            "text/plain": [
              "<unittest.runner.TextTestResult run=2 errors=0 failures=0>"
            ]
          },
          "metadata": {},
          "execution_count": 5
        }
      ]
    }
  ]
}