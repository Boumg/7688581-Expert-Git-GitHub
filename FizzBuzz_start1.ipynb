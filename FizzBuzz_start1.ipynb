{
  "nbformat": 4,
  "nbformat_minor": 0,
  "metadata": {
    "colab": {
      "provenance": [],
      "toc_visible": true,
      "include_colab_link": true
    },
    "kernelspec": {
      "name": "python3",
      "display_name": "Python 3"
    },
    "language_info": {
      "name": "python"
    }
  },
  "cells": [
    {
      "cell_type": "markdown",
      "metadata": {
        "id": "view-in-github",
        "colab_type": "text"
      },
      "source": [
        "<a href=\"https://colab.research.google.com/github/Boumg/7688581-Expert-Git-GitHub/blob/main/FizzBuzz_start1.ipynb\" target=\"_parent\"><img src=\"https://colab.research.google.com/assets/colab-badge.svg\" alt=\"Open In Colab\"/></a>"
      ]
    },
    {
      "cell_type": "markdown",
      "source": [],
      "metadata": {
        "id": "7Wg_L1WCB3tW"
      }
    },
    {
      "cell_type": "markdown",
      "source": [
        "# FizzBuzz"
      ],
      "metadata": {
        "id": "uuEDgIMitQrq"
      }
    },
    {
      "cell_type": "markdown",
      "source": [
        "\n",
        "# Description des exigences\n",
        "\n",
        "Imaginez la scène. Vous avez onze ans, et cinq minutes avant la fin du cours, votre professeur de mathématiques décide qu'il devrait rendre sa classe plus « amusante » en introduisant un « jeu ». Il explique qu'il va montrer tour à tour chaque élève et lui demander de prononcer le numéro suivant dans l'ordre, en commençant par un. Ce qui est « amusant », c’est que si le nombre est divisible par trois, vous dites plutôt « Fizz » et s’il est divisible par cinq, vous dites « Buzz ». Alors maintenant, votre professeur de mathématiques pointe du doigt tous vos camarades de classe à tour de rôle, et ils crient joyeusement « un ! », « deux ! », « Fizz ! », « quatre ! », « Buzz ! »… jusqu’à ce qu’il montre très délibérément du doigt toi, te fixant d'un regard d'acier… le temps s'arrête, ta bouche s'assèche, tes paumes deviennent de plus en plus moites jusqu'à ce que tu parviennes enfin à coasser « Fizz ! ». Le destin est évité et le doigt pointé continue.\n",
        "\n",
        "Alors bien sûr, afin d'éviter tout embarras devant toute votre classe, vous devez imprimer la liste complète pour savoir quoi dire. Votre classe compte environ 33 élèves et il peut faire trois tours avant que la cloche ne sonne pour la récréation. Le prochain cours de mathématiques aura lieu jeudi. Obtenez le codage !\n",
        "\n",
        "# Besoins\n",
        "\n",
        "Écrivez un programme qui imprime les nombres de 1 à 100. Mais pour les multiples de trois, imprimez « Fizz » au lieu du nombre et pour les multiples de cinq, imprimez « Buzz ». Pour les nombres multiples de trois et cinq, imprimez « FizzBuzz »."
      ],
      "metadata": {
        "id": "QvvLYmXVEZX9"
      }
    },
    {
      "cell_type": "markdown",
      "source": [
        "# Affinage BackLog"
      ],
      "metadata": {
        "id": "gcmsnqFBn6Ga"
      }
    },
    {
      "cell_type": "markdown",
      "source": [
        "Backlog\n",
        "=======\n",
        "\n",
        " - items 1 (à faire)\n",
        " - items 2\n"
      ],
      "metadata": {
        "id": "Xo5AjTjo-0mC"
      }
    },
    {
      "cell_type": "markdown",
      "source": [
        "# TDD : écriture des tests\n",
        "\n",
        "python\n",
        "\n",
        "```python\n",
        "if <cond> then : <code>\n",
        "\n",
        "class MonException(Exception):\n",
        "    pass\n",
        "\n",
        "try:\n",
        "    raise MonException(\"Ceci est une exception personnalisée\")\n",
        "except MonException as e:\n",
        "    print(f\"Une exception s'est produite: {e}\")\n",
        "    \n",
        "compteur = 0\n",
        "while compteur < 5:\n",
        "    print(compteur)\n",
        "    compteur += 1\n",
        "\n",
        "\n",
        "```"
      ],
      "metadata": {
        "id": "aUM-mKwBsYQW"
      }
    },
    {
      "cell_type": "code",
      "execution_count": null,
      "metadata": {
        "id": "-i_LR5HMBxp3"
      },
      "outputs": [],
      "source": [
        "import unittest\n",
        "\n",
        "\n",
        "class TestMyMath(unittest.TestCase):\n",
        "\n",
        "    def test_add(self):\n",
        "        self.assertEqual(2, 3)\n",
        "\n",
        "    def test_subtract(self):\n",
        "        self.assertEqual(1, 1)\n",
        "\n"
      ]
    },
    {
      "cell_type": "markdown",
      "source": [
        "# Execution en Rouge"
      ],
      "metadata": {
        "id": "yX18CIfht0MB"
      }
    },
    {
      "cell_type": "code",
      "source": [
        "import unittest\n",
        "unittest.TextTestRunner().run(unittest.TestLoader().loadTestsFromTestCase(TestMyMath))"
      ],
      "metadata": {
        "colab": {
          "base_uri": "https://localhost:8080/"
        },
        "id": "uB5RHgwDClPV",
        "outputId": "7cb15404-c720-4a4d-c517-d0c7d0dd03d2"
      },
      "execution_count": null,
      "outputs": [
        {
          "output_type": "stream",
          "name": "stderr",
          "text": [
            "F.\n",
            "======================================================================\n",
            "FAIL: test_add (__main__.TestMyMath)\n",
            "----------------------------------------------------------------------\n",
            "Traceback (most recent call last):\n",
            "  File \"<ipython-input-10-f6e41fc54028>\", line 7, in test_add\n",
            "    self.assertEqual(2, 3)\n",
            "AssertionError: 2 != 3\n",
            "\n",
            "----------------------------------------------------------------------\n",
            "Ran 2 tests in 0.004s\n",
            "\n",
            "FAILED (failures=1)\n"
          ]
        },
        {
          "output_type": "execute_result",
          "data": {
            "text/plain": [
              "<unittest.runner.TextTestResult run=2 errors=0 failures=1>"
            ]
          },
          "metadata": {},
          "execution_count": 11
        }
      ]
    },
    {
      "cell_type": "markdown",
      "source": [
        "# Implémentation\n"
      ],
      "metadata": {
        "id": "6cP81edvuNFT"
      }
    },
    {
      "cell_type": "code",
      "source": [
        "def ma_fonction():\n",
        "    pass\n"
      ],
      "metadata": {
        "id": "5SmnmmfBugec"
      },
      "execution_count": null,
      "outputs": []
    },
    {
      "cell_type": "markdown",
      "source": [
        "# Execution  des tests en verts"
      ],
      "metadata": {
        "id": "SjpJZWdGtg0I"
      }
    },
    {
      "cell_type": "code",
      "source": [
        "import unittest\n",
        "unittest.TextTestRunner().run(unittest.TestLoader().loadTestsFromTestCase(TestMyMath))"
      ],
      "metadata": {
        "colab": {
          "base_uri": "https://localhost:8080/"
        },
        "id": "KXm1N66Avxh9",
        "outputId": "48c6fa62-3a81-429f-948b-7b4d69046457"
      },
      "execution_count": null,
      "outputs": [
        {
          "output_type": "stream",
          "name": "stderr",
          "text": [
            "..\n",
            "----------------------------------------------------------------------\n",
            "Ran 2 tests in 0.004s\n",
            "\n",
            "OK\n"
          ]
        },
        {
          "output_type": "execute_result",
          "data": {
            "text/plain": [
              "<unittest.runner.TextTestResult run=2 errors=0 failures=0>"
            ]
          },
          "metadata": {},
          "execution_count": 5
        }
      ]
    }
  ]
}