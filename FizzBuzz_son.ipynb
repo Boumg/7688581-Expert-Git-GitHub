{
  "nbformat": 4,
  "nbformat_minor": 0,
  "metadata": {
    "colab": {
      "provenance": [],
      "toc_visible": true,
      "include_colab_link": true
    },
    "kernelspec": {
      "name": "python3",
      "display_name": "Python 3"
    },
    "language_info": {
      "name": "python"
    }
  },
  "cells": [
    {
      "cell_type": "markdown",
      "metadata": {
        "id": "view-in-github",
        "colab_type": "text"
      },
      "source": [
        "<a href=\"https://colab.research.google.com/github/Boumg/7688581-Expert-Git-GitHub/blob/main/FizzBuzz_son.ipynb\" target=\"_parent\"><img src=\"https://colab.research.google.com/assets/colab-badge.svg\" alt=\"Open In Colab\"/></a>"
      ]
    },
    {
      "cell_type": "markdown",
      "source": [],
      "metadata": {
        "id": "7Wg_L1WCB3tW"
      }
    },
    {
      "cell_type": "markdown",
      "source": [
        "# FizzBuzz"
      ],
      "metadata": {
        "id": "uuEDgIMitQrq"
      }
    },
    {
      "cell_type": "markdown",
      "source": [
        "\n",
        "# Description des exigences\n",
        "\n",
        "Imaginez la scène. Vous avez onze ans, et cinq minutes avant la fin du cours, votre professeur de mathématiques décide qu'il devrait rendre sa classe plus « amusante » en introduisant un « jeu ». Il explique qu'il va montrer tour à tour chaque élève et lui demander de prononcer le numéro suivant dans l'ordre, en commençant par un. Ce qui est « amusant », c’est que si le nombre est divisible par trois, vous dites plutôt « Fizz » et s’il est divisible par cinq, vous dites « Buzz ». Alors maintenant, votre professeur de mathématiques pointe du doigt tous vos camarades de classe à tour de rôle, et ils crient joyeusement « un ! », « deux ! », « Fizz ! », « quatre ! », « Buzz ! »… jusqu’à ce qu’il montre très délibérément du doigt toi, te fixant d'un regard d'acier… le temps s'arrête, ta bouche s'assèche, tes paumes deviennent de plus en plus moites jusqu'à ce que tu parviennes enfin à coasser « Fizz ! ». Le destin est évité et le doigt pointé continue.\n",
        "\n",
        "Alors bien sûr, afin d'éviter tout embarras devant toute votre classe, vous devez imprimer la liste complète pour savoir quoi dire. Votre classe compte environ 33 élèves et il peut faire trois tours avant que la cloche ne sonne pour la récréation. Le prochain cours de mathématiques aura lieu jeudi. Obtenez le codage !\n",
        "\n",
        "# Besoins\n",
        "\n",
        "Écrivez un programme qui imprime les nombres de 1 à 100. Mais pour les multiples de trois, imprimez « Fizz » au lieu du nombre et pour les multiples de cinq, imprimez « Buzz ». Pour les nombres multiples de trois et cinq, imprimez « FizzBuzz »."
      ],
      "metadata": {
        "id": "QvvLYmXVEZX9"
      }
    },
    {
      "cell_type": "code",
      "source": [
        "\n"
      ],
      "metadata": {
        "id": "AIhS7G0EK57W"
      },
      "execution_count": null,
      "outputs": []
    },
    {
      "cell_type": "markdown",
      "source": [
        "# Affinage BackLog"
      ],
      "metadata": {
        "id": "gcmsnqFBn6Ga"
      }
    },
    {
      "cell_type": "markdown",
      "source": [
        "Backlog\n",
        "=======\n",
        "\n",
        " - items 1 (à faire)\n",
        " - items 2\n"
      ],
      "metadata": {
        "id": "Xo5AjTjo-0mC"
      }
    },
    {
      "cell_type": "markdown",
      "source": [
        "# TDD : écriture des tests"
      ],
      "metadata": {
        "id": "aUM-mKwBsYQW"
      }
    },
    {
      "cell_type": "code",
      "execution_count": null,
      "metadata": {
        "id": "-i_LR5HMBxp3"
      },
      "outputs": [],
      "source": [
        "import unittest\n",
        "\n",
        "\n",
        "class TestMyMath(unittest.TestCase):\n",
        "\n",
        "    def test_add(self):\n",
        "        self.assertEqual(2, 3)\n",
        "\n",
        "    def test_subtract(self):\n",
        "        self.assertEqual(1, 1)\n",
        "\n"
      ]
    },
    {
      "cell_type": "markdown",
      "source": [
        "# Execution en Rouge"
      ],
      "metadata": {
        "id": "yX18CIfht0MB"
      }
    },
    {
      "cell_type": "code",
      "source": [
        "import unittest\n",
        "unittest.TextTestRunner().run(unittest.TestLoader().loadTestsFromTestCase(TestMyMath))"
      ],
      "metadata": {
        "colab": {
          "base_uri": "https://localhost:8080/"
        },
        "id": "uB5RHgwDClPV",
        "outputId": "7cb15404-c720-4a4d-c517-d0c7d0dd03d2"
      },
      "execution_count": null,
      "outputs": [
        {
          "output_type": "stream",
          "name": "stderr",
          "text": [
            "F.\n",
            "======================================================================\n",
            "FAIL: test_add (__main__.TestMyMath)\n",
            "----------------------------------------------------------------------\n",
            "Traceback (most recent call last):\n",
            "  File \"<ipython-input-10-f6e41fc54028>\", line 7, in test_add\n",
            "    self.assertEqual(2, 3)\n",
            "AssertionError: 2 != 3\n",
            "\n",
            "----------------------------------------------------------------------\n",
            "Ran 2 tests in 0.004s\n",
            "\n",
            "FAILED (failures=1)\n"
          ]
        },
        {
          "output_type": "execute_result",
          "data": {
            "text/plain": [
              "<unittest.runner.TextTestResult run=2 errors=0 failures=1>"
            ]
          },
          "metadata": {},
          "execution_count": 11
        }
      ]
    },
    {
      "cell_type": "markdown",
      "source": [
        "# Implémentation"
      ],
      "metadata": {
        "id": "6cP81edvuNFT"
      }
    },
    {
      "cell_type": "code",
      "source": [
        "def fizzbuzz(n):\n",
        "    for i in range(1, n+1):\n",
        "        if i % 3 == 0 and i % 5 == 0:\n",
        "            print('FizzBuzz')\n",
        "        elif i % 3 == 0:\n",
        "            print('Fizz')\n",
        "        elif i % 5 == 0:\n",
        "            print('Buzz')\n",
        "        else:\n",
        "            print(i)\n"
      ],
      "metadata": {
        "id": "5SmnmmfBugec"
      },
      "execution_count": null,
      "outputs": []
    },
    {
      "cell_type": "markdown",
      "source": [
        "# Execution  des tests en verts"
      ],
      "metadata": {
        "id": "SjpJZWdGtg0I"
      }
    },
    {
      "cell_type": "code",
      "source": [
        "import unittest\n",
        "unittest.TextTestRunner().run(unittest.TestLoader().loadTestsFromTestCase(TestMyMath))"
      ],
      "metadata": {
        "colab": {
          "base_uri": "https://localhost:8080/"
        },
        "id": "KXm1N66Avxh9",
        "outputId": "48c6fa62-3a81-429f-948b-7b4d69046457"
      },
      "execution_count": null,
      "outputs": [
        {
          "output_type": "stream",
          "name": "stderr",
          "text": [
            "..\n",
            "----------------------------------------------------------------------\n",
            "Ran 2 tests in 0.004s\n",
            "\n",
            "OK\n"
          ]
        },
        {
          "output_type": "execute_result",
          "data": {
            "text/plain": [
              "<unittest.runner.TextTestResult run=2 errors=0 failures=0>"
            ]
          },
          "metadata": {},
          "execution_count": 5
        }
      ]
    },
    {
      "cell_type": "code",
      "source": [
        "!pip install google-api-python-client\n"
      ],
      "metadata": {
        "colab": {
          "base_uri": "https://localhost:8080/"
        },
        "id": "LvcNK--SEcNv",
        "outputId": "c4748507-f462-4795-8950-09c468b7bae5"
      },
      "execution_count": null,
      "outputs": [
        {
          "output_type": "stream",
          "name": "stdout",
          "text": [
            "Requirement already satisfied: google-api-python-client in /usr/local/lib/python3.10/dist-packages (2.84.0)\n",
            "Requirement already satisfied: httplib2<1dev,>=0.15.0 in /usr/local/lib/python3.10/dist-packages (from google-api-python-client) (0.22.0)\n",
            "Requirement already satisfied: google-auth<3.0.0dev,>=1.19.0 in /usr/local/lib/python3.10/dist-packages (from google-api-python-client) (2.17.3)\n",
            "Requirement already satisfied: google-auth-httplib2>=0.1.0 in /usr/local/lib/python3.10/dist-packages (from google-api-python-client) (0.1.0)\n",
            "Requirement already satisfied: google-api-core!=2.0.*,!=2.1.*,!=2.2.*,!=2.3.0,<3.0.0dev,>=1.31.5 in /usr/local/lib/python3.10/dist-packages (from google-api-python-client) (2.11.1)\n",
            "Requirement already satisfied: uritemplate<5,>=3.0.1 in /usr/local/lib/python3.10/dist-packages (from google-api-python-client) (4.1.1)\n",
            "Requirement already satisfied: googleapis-common-protos<2.0.dev0,>=1.56.2 in /usr/local/lib/python3.10/dist-packages (from google-api-core!=2.0.*,!=2.1.*,!=2.2.*,!=2.3.0,<3.0.0dev,>=1.31.5->google-api-python-client) (1.60.0)\n",
            "Requirement already satisfied: protobuf!=3.20.0,!=3.20.1,!=4.21.0,!=4.21.1,!=4.21.2,!=4.21.3,!=4.21.4,!=4.21.5,<5.0.0.dev0,>=3.19.5 in /usr/local/lib/python3.10/dist-packages (from google-api-core!=2.0.*,!=2.1.*,!=2.2.*,!=2.3.0,<3.0.0dev,>=1.31.5->google-api-python-client) (3.20.3)\n",
            "Requirement already satisfied: requests<3.0.0.dev0,>=2.18.0 in /usr/local/lib/python3.10/dist-packages (from google-api-core!=2.0.*,!=2.1.*,!=2.2.*,!=2.3.0,<3.0.0dev,>=1.31.5->google-api-python-client) (2.31.0)\n",
            "Requirement already satisfied: cachetools<6.0,>=2.0.0 in /usr/local/lib/python3.10/dist-packages (from google-auth<3.0.0dev,>=1.19.0->google-api-python-client) (5.3.1)\n",
            "Requirement already satisfied: pyasn1-modules>=0.2.1 in /usr/local/lib/python3.10/dist-packages (from google-auth<3.0.0dev,>=1.19.0->google-api-python-client) (0.3.0)\n",
            "Requirement already satisfied: six>=1.9.0 in /usr/local/lib/python3.10/dist-packages (from google-auth<3.0.0dev,>=1.19.0->google-api-python-client) (1.16.0)\n",
            "Requirement already satisfied: rsa<5,>=3.1.4 in /usr/local/lib/python3.10/dist-packages (from google-auth<3.0.0dev,>=1.19.0->google-api-python-client) (4.9)\n",
            "Requirement already satisfied: pyparsing!=3.0.0,!=3.0.1,!=3.0.2,!=3.0.3,<4,>=2.4.2 in /usr/local/lib/python3.10/dist-packages (from httplib2<1dev,>=0.15.0->google-api-python-client) (3.1.1)\n",
            "Requirement already satisfied: pyasn1<0.6.0,>=0.4.6 in /usr/local/lib/python3.10/dist-packages (from pyasn1-modules>=0.2.1->google-auth<3.0.0dev,>=1.19.0->google-api-python-client) (0.5.0)\n",
            "Requirement already satisfied: charset-normalizer<4,>=2 in /usr/local/lib/python3.10/dist-packages (from requests<3.0.0.dev0,>=2.18.0->google-api-core!=2.0.*,!=2.1.*,!=2.2.*,!=2.3.0,<3.0.0dev,>=1.31.5->google-api-python-client) (3.2.0)\n",
            "Requirement already satisfied: idna<4,>=2.5 in /usr/local/lib/python3.10/dist-packages (from requests<3.0.0.dev0,>=2.18.0->google-api-core!=2.0.*,!=2.1.*,!=2.2.*,!=2.3.0,<3.0.0dev,>=1.31.5->google-api-python-client) (3.4)\n",
            "Requirement already satisfied: urllib3<3,>=1.21.1 in /usr/local/lib/python3.10/dist-packages (from requests<3.0.0.dev0,>=2.18.0->google-api-core!=2.0.*,!=2.1.*,!=2.2.*,!=2.3.0,<3.0.0dev,>=1.31.5->google-api-python-client) (2.0.4)\n",
            "Requirement already satisfied: certifi>=2017.4.17 in /usr/local/lib/python3.10/dist-packages (from requests<3.0.0.dev0,>=2.18.0->google-api-core!=2.0.*,!=2.1.*,!=2.2.*,!=2.3.0,<3.0.0dev,>=1.31.5->google-api-python-client) (2023.7.22)\n"
          ]
        }
      ]
    },
    {
      "cell_type": "code",
      "source": [
        "from IPython.display import display, Javascript\n",
        "\n",
        "def browser_speak(text):\n",
        "    display(Javascript(f'''\n",
        "        var msg = new SpeechSynthesisUtterance();\n",
        "        msg.text = \"{text}\";\n",
        "        window.speechSynthesis.speak(msg);\n",
        "    '''))\n",
        "\n",
        "browser_speak(\"Bonjour, comment ça va ?\")\n"
      ],
      "metadata": {
        "colab": {
          "base_uri": "https://localhost:8080/",
          "height": 17
        },
        "id": "WQZ4aL7eM-ex",
        "outputId": "9bf1c5e3-9668-4ec7-841d-8ac90f626ed0"
      },
      "execution_count": null,
      "outputs": [
        {
          "output_type": "display_data",
          "data": {
            "text/plain": [
              "<IPython.core.display.Javascript object>"
            ],
            "application/javascript": [
              "\n",
              "        var msg = new SpeechSynthesisUtterance();\n",
              "        msg.text = \"Bonjour, comment ça va ?\";\n",
              "        window.speechSynthesis.speak(msg);\n",
              "    "
            ]
          },
          "metadata": {}
        }
      ]
    }
  ]
}