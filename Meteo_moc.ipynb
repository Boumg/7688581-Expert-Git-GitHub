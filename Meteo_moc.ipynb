{
  "nbformat": 4,
  "nbformat_minor": 0,
  "metadata": {
    "colab": {
      "provenance": [],
      "include_colab_link": true
    },
    "kernelspec": {
      "name": "python3",
      "display_name": "Python 3"
    },
    "language_info": {
      "name": "python"
    }
  },
  "cells": [
    {
      "cell_type": "markdown",
      "metadata": {
        "id": "view-in-github",
        "colab_type": "text"
      },
      "source": [
        "<a href=\"https://colab.research.google.com/github/Boumg/7688581-Expert-Git-GitHub/blob/main/Meteo_moc.ipynb\" target=\"_parent\"><img src=\"https://colab.research.google.com/assets/colab-badge.svg\" alt=\"Open In Colab\"/></a>"
      ]
    },
    {
      "cell_type": "markdown",
      "source": [
        "Bien sûr! Les spécifications décrivent le comportement attendu de votre système. Pour l'exercice du service météo que nous avons décrit précédemment, voici des spécifications possibles :\n",
        "\n",
        "### Spécifications du Service de Météo\n",
        "\n",
        "---\n",
        "\n",
        "#### 1. Fonction `obtenir_meteo(ville: str) -> dict`\n",
        "\n",
        "- **Objectif** : Récupérer les informations météorologiques d'une ville donnée.\n",
        "  \n",
        "- **Entrée** : Une chaîne de caractères représentant le nom de la ville.\n",
        "  \n",
        "- **Sortie** : Un dictionnaire contenant des informations météorologiques. Le dictionnaire doit, au minimum, contenir la clé `'temperature'` représentant la température de la ville en degrés Celsius.\n",
        "  \n",
        "- **Comportement** :\n",
        "  - Cette fonction est censée simuler un appel à un service externe (API météo).\n",
        "  - En cas d'échec (ville non trouvée, erreur réseau...), la fonction devrait\n",
        "  lever une exception appropriée.\n",
        "\n",
        "---\n",
        "\n",
        "#### 2. Fonction `recommandation(ville: str) -> str`\n",
        "\n",
        "- **Objectif** : Donner une recommandation vestimentaire basée sur la température d'une ville donnée.\n",
        "  \n",
        "- **Entrée** : Une chaîne de caractères représentant le nom de la ville.\n",
        "  \n",
        "- **Sortie** : Une recommandation sous forme de chaîne de caractères basée sur la température de la ville.\n",
        "  \n",
        "- **Comportement** :\n",
        "  - Si la température est inférieure à 0°C, la fonction retourne \"Il fait très froid ! Portez des vêtements chauds.\"\n",
        "  - Si la température est comprise entre 0°C (inclus) et 15°C (exclus), la fonction retourne \"Il fait frais. Prenez un pull.\"\n",
        "  - Si la température est de 15°C ou plus, la fonction retourne \"Il fait bon. Pas besoin de veste.\"\n",
        "  - En cas d'erreur lors de l'appel à `obtenir_meteo`, la fonction devrait gérer l'exception et retourner un message d'erreur approprié (par exemple, \"Erreur lors de la récupération de la météo.\").\n",
        "  \n",
        "---\n",
        "\n",
        "#### 3. Tests Unitaires\n",
        "\n",
        "- **Objectif** : Assurer que les fonctions `obtenir_meteo` et `recommandation` se comportent comme attendu.\n",
        "\n",
        "- **Comportement** :\n",
        "  - Les tests doivent utiliser le \"mocking\" pour simuler les retours de la fonction `obtenir_meteo`.\n",
        "  - Les tests doivent couvrir les trois scénarios de température pour la fonction `recommandation`.\n",
        "  - Un test bonus pourrait simuler une erreur lors de l'appel à `obtenir_meteo` pour s'assurer que la fonction `recommandation` gère correctement cette situation.\n",
        "\n",
        "---\n",
        "\n",
        "Ces spécifications offrent un aperçu clair de ce qui est attendu de chaque fonction et comment elles devraient se comporter. Elles peuvent être utilisées comme base pour le développement et les tests."
      ],
      "metadata": {
        "id": "X5k4A9rJacad"
      }
    },
    {
      "cell_type": "code",
      "execution_count": null,
      "metadata": {
        "id": "ybNJnfijaYbq"
      },
      "outputs": [],
      "source": [
        "def obtenir_meteo(ville: str) -> dict:\n",
        "    \"\"\"\n",
        "    Cette fonction est censée faire un appel API à un service de météo.\n",
        "    Retourne un dictionnaire contenant, au minimum, la clé 'temperature'.\n",
        "    \"\"\"\n",
        "    pass  # Ici, vous ne définissez rien car elle sera mockée.\n"
      ]
    },
    {
      "cell_type": "code",
      "source": [
        "from unittest.mock import patch\n",
        "\n",
        "def test_recommandation():\n",
        "    with patch('__main__.obtenir_meteo', return_value={\"temperature\": -7}):\n",
        "        assert recommandation(\"Paris\") == \"Il fait trèes froid ! Portez des vêtements chauds.\"\n",
        "\n",
        "    with patch('__main__.obtenir_meteo', return_value={\"temperature\": 10}):\n",
        "        assert recommandation(\"Paris\") == \"Il fait frais. Prenez un pull.\"\n",
        "\n",
        "    with patch('__main__.obtenir_meteo', return_value={\"temperature\": 20}):\n",
        "        assert recommandation(\"Paris\") == \"Il fait bon. Pas besoin de veste.\"\n",
        "\n",
        "#unittest.TextTestRunner().run(unittest.TestLoader().loadTestsFromTestCase(TestMyMath))\n",
        "\n",
        "test_recommandation()\n"
      ],
      "metadata": {
        "colab": {
          "base_uri": "https://localhost:8080/",
          "height": 344
        },
        "id": "RWajJV6CbAzD",
        "outputId": "3b6cb981-9824-4dd3-c054-6e90678db403"
      },
      "execution_count": null,
      "outputs": [
        {
          "output_type": "error",
          "ename": "AssertionError",
          "evalue": "ignored",
          "traceback": [
            "\u001b[0;31m---------------------------------------------------------------------------\u001b[0m",
            "\u001b[0;31mAssertionError\u001b[0m                            Traceback (most recent call last)",
            "\u001b[0;32m<ipython-input-12-820988bed5ce>\u001b[0m in \u001b[0;36m<cell line: 15>\u001b[0;34m()\u001b[0m\n\u001b[1;32m     13\u001b[0m \u001b[0;31m#unittest.TextTestRunner().run(unittest.TestLoader().loadTestsFromTestCase(TestMyMath))\u001b[0m\u001b[0;34m\u001b[0m\u001b[0;34m\u001b[0m\u001b[0m\n\u001b[1;32m     14\u001b[0m \u001b[0;34m\u001b[0m\u001b[0m\n\u001b[0;32m---> 15\u001b[0;31m \u001b[0mtest_recommandation\u001b[0m\u001b[0;34m(\u001b[0m\u001b[0;34m)\u001b[0m\u001b[0;34m\u001b[0m\u001b[0;34m\u001b[0m\u001b[0m\n\u001b[0m",
            "\u001b[0;32m<ipython-input-12-820988bed5ce>\u001b[0m in \u001b[0;36mtest_recommandation\u001b[0;34m()\u001b[0m\n\u001b[1;32m      3\u001b[0m \u001b[0;32mdef\u001b[0m \u001b[0mtest_recommandation\u001b[0m\u001b[0;34m(\u001b[0m\u001b[0;34m)\u001b[0m\u001b[0;34m:\u001b[0m\u001b[0;34m\u001b[0m\u001b[0;34m\u001b[0m\u001b[0m\n\u001b[1;32m      4\u001b[0m     \u001b[0;32mwith\u001b[0m \u001b[0mpatch\u001b[0m\u001b[0;34m(\u001b[0m\u001b[0;34m'__main__.obtenir_meteo'\u001b[0m\u001b[0;34m,\u001b[0m \u001b[0mreturn_value\u001b[0m\u001b[0;34m=\u001b[0m\u001b[0;34m{\u001b[0m\u001b[0;34m\"temperature\"\u001b[0m\u001b[0;34m:\u001b[0m \u001b[0;34m-\u001b[0m\u001b[0;36m7\u001b[0m\u001b[0;34m}\u001b[0m\u001b[0;34m)\u001b[0m\u001b[0;34m:\u001b[0m\u001b[0;34m\u001b[0m\u001b[0;34m\u001b[0m\u001b[0m\n\u001b[0;32m----> 5\u001b[0;31m         \u001b[0;32massert\u001b[0m \u001b[0mrecommandation\u001b[0m\u001b[0;34m(\u001b[0m\u001b[0;34m\"Paris\"\u001b[0m\u001b[0;34m)\u001b[0m \u001b[0;34m==\u001b[0m \u001b[0;34m\"Il fait trèes froid ! Portez des vêtements chauds.\"\u001b[0m\u001b[0;34m\u001b[0m\u001b[0;34m\u001b[0m\u001b[0m\n\u001b[0m\u001b[1;32m      6\u001b[0m \u001b[0;34m\u001b[0m\u001b[0m\n\u001b[1;32m      7\u001b[0m     \u001b[0;32mwith\u001b[0m \u001b[0mpatch\u001b[0m\u001b[0;34m(\u001b[0m\u001b[0;34m'__main__.obtenir_meteo'\u001b[0m\u001b[0;34m,\u001b[0m \u001b[0mreturn_value\u001b[0m\u001b[0;34m=\u001b[0m\u001b[0;34m{\u001b[0m\u001b[0;34m\"temperature\"\u001b[0m\u001b[0;34m:\u001b[0m \u001b[0;36m10\u001b[0m\u001b[0;34m}\u001b[0m\u001b[0;34m)\u001b[0m\u001b[0;34m:\u001b[0m\u001b[0;34m\u001b[0m\u001b[0;34m\u001b[0m\u001b[0m\n",
            "\u001b[0;31mAssertionError\u001b[0m: "
          ]
        }
      ]
    },
    {
      "cell_type": "code",
      "source": [
        "def recommandation(ville: str) -> str:\n",
        "    meteo = obtenir_meteo(ville)\n",
        "    temperature = meteo['temperature']\n",
        "\n",
        "    if temperature < 0:\n",
        "        return \"Il fait très froid ! Portez des vêtements chauds.\"\n",
        "    elif 0 <= temperature < 15:\n",
        "        return \"Il fait frais. Prenez un pull.\"\n",
        "    else:\n",
        "        return \"Il fait bon. Pas besoin de veste.\"\n"
      ],
      "metadata": {
        "id": "2HA-5leObPUk"
      },
      "execution_count": null,
      "outputs": []
    }
  ]
}